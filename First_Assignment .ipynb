{
 "cells": [
  {
   "cell_type": "markdown",
   "id": "1e701799-c392-44d0-a643-d9da8327c546",
   "metadata": {},
   "source": [
    "##### <i>Name:Shabana Mangal<i>\n",
    "##### <i>Instructer:Dr.Qianyi Cheng<i>\n",
    "##### <i>Date:2/7/2025<i>\n",
    "##### <i>Subject:Programming in Chemistry<i>\n"
   ]
  },
  {
   "cell_type": "code",
   "execution_count": 10,
   "id": "bcdd3ee2-1084-4951-94d7-6b1fe83a6149",
   "metadata": {},
   "outputs": [
    {
     "name": "stdout",
     "output_type": "stream",
     "text": [
      "The number of copper atoms in the penny is : 2.94e+22\n"
     ]
    }
   ],
   "source": [
    "# Question 1:\n",
    "# Given data\n",
    "mass_of_penny = 3.10  # mass of the penny in grams\n",
    "molar_mass_copper = 63.55  # molar mass of copper in g/mol\n",
    "avogadro_number = 6.022e23  # Avogadro's number\n",
    "\n",
    "# Calculate the number of moles of copper in the penny\n",
    "moles_of_copper = mass_of_penny / molar_mass_copper\n",
    "\n",
    "# Calculate the number of copper atoms in the penny\n",
    "number_of_atoms = moles_of_copper * avogadro_number\n",
    "\n",
    "# Output the result\n",
    "print(f\"The number of copper atoms in the penny is : {number_of_atoms:.2e}\")\n"
   ]
  },
  {
   "cell_type": "code",
   "execution_count": 4,
   "id": "ad95ee21-ed7e-48ea-9ffd-076bb0bef6a6",
   "metadata": {},
   "outputs": [
    {
     "name": "stdout",
     "output_type": "stream",
     "text": [
      "The radius of the aluminum sphere is approximately: 0.6970623805805106 cm\n"
     ]
    }
   ],
   "source": [
    "# Question 2:\n",
    "import math\n",
    "\n",
    "# Given data\n",
    "num_atoms = 8.55e22  # Number of aluminum atoms\n",
    "density = 2.70  # Density of aluminum in g/cm³\n",
    "molar_mass = 26.98  # Molar mass of aluminum in g/mol\n",
    "avogadro_number = 6.022e23  # Avogadro's number in atoms/mol\n",
    "\n",
    "# Step 1: Calculate the moles of aluminum\n",
    "moles_of_al = num_atoms / avogadro_number\n",
    "\n",
    "# Step 2: Calculate the mass of the aluminum sphere\n",
    "mass_of_sphere = moles_of_al * molar_mass\n",
    "\n",
    "# Step 3: Calculate the volume of the sphere using the density formula (v = m / d)\n",
    "volume_of_sphere = mass_of_sphere / density\n",
    "\n",
    "# Step 4: Calculate the radius using the formula for the volume of a sphere (v = (4/3)πr³)\n",
    "radius = (3 * volume_of_sphere / (4 * math.pi))**(1/3)\n",
    "\n",
    "# Output the result\n",
    "print(f\"The radius of the aluminum sphere is approximately: {radius:} cm\")\n"
   ]
  },
  {
   "cell_type": "code",
   "execution_count": 11,
   "id": "54528ffa-a0e1-4822-94ce-048e085cc799",
   "metadata": {},
   "outputs": [
    {
     "name": "stdout",
     "output_type": "stream",
     "text": [
      "The wavelength of the red light is : 649.3506493506493 nm\n"
     ]
    }
   ],
   "source": [
    "# Question 3:\n",
    "# Given values\n",
    "frequency = 4.62e14  # frequency in Hz (s^-1)\n",
    "speed_of_light = 3.00e8  # speed of light in m/s\n",
    "\n",
    "# Step 1: Calculate the wavelength in meters\n",
    "wavelength_meters = speed_of_light / frequency\n",
    "\n",
    "# Step 2: Convert the wavelength from meters to nanometers (1 m = 1e9 nm)\n",
    "wavelength_nanometers = wavelength_meters * 1e9\n",
    "\n",
    "# Output the result\n",
    "print(f\"The wavelength of the red light is : {wavelength_nanometers:} nm\")\n"
   ]
  },
  {
   "cell_type": "code",
   "execution_count": 21,
   "id": "d691e37e-f3e3-4405-af57-8a6864699ad0",
   "metadata": {},
   "outputs": [
    {
     "name": "stdout",
     "output_type": "stream",
     "text": [
      "Sorted electron affinities: [-349, -328, -200, -141, -134, -122, -73, -72, -60, -53, -43, -27]\n",
      "Maximum electron affinity: -27 kJ/mol\n",
      "Minimum electron affinity: -349 kJ/mol\n",
      "Average electron affinity: -133.50 kJ/mol\n",
      "Middle value(s): (-122, -73)\n",
      "\n",
      "Trends observed:\n",
      " -Trend 1: Generally, electron affinity becomes more negative (stronger attraction to electrons) as you move across a period from left to right.\n",
      " -Trend 2: Electron affinity tends to become less negative (weaker attraction) as you move down a group.\n",
      " -Trend 3: Halogens (like F and Cl) show highly negative electron affinities due to their strong electronegativity.\n",
      " -Trend 4: Metals typically have less negative electron affinities than nonmetals.\n",
      " -Trend 5: There are some anomalies, e.g., Boron and Aluminum have less negative electron affinities compared to neighboring elements.\n"
     ]
    }
   ],
   "source": [
    "# Question 4:\n",
    "# Given electron affinities in kJ/mol for each element\n",
    "electron_affinities = {\n",
    "    'H': -73,\n",
    "    'Li': -60,\n",
    "    'B': -27,\n",
    "    'C': -122,\n",
    "    'O': -141,\n",
    "    'F': -328,\n",
    "    'Na': -53,\n",
    "    'Al': -43,\n",
    "    'Si': -134,\n",
    "    'P': -72,\n",
    "    'S': -200,\n",
    "    'Cl': -349\n",
    "}\n",
    "\n",
    "# Step 1: Sort the electron affinities in ascending order\n",
    "sorted_affinities = sorted(electron_affinities.values())\n",
    "\n",
    "# Step 2: Find the maximum, minimum, and average values\n",
    "max_value = max(sorted_affinities)\n",
    "min_value = min(sorted_affinities)\n",
    "average_value = sum(sorted_affinities) / len(sorted_affinities)\n",
    "\n",
    "# Step 3: Identify the middle value(s)\n",
    "middle_index = len(sorted_affinities) // 2\n",
    "if len(sorted_affinities) % 2 == 0:\n",
    "    middle_values = (sorted_affinities[middle_index - 1], sorted_affinities[middle_index])\n",
    "else:\n",
    "    middle_values = sorted_affinities[middle_index]\n",
    "def describe_trends():\n",
    "    trends = []\n",
    "    trends.append(\"Trend 1: Generally, electron affinity becomes more negative (stronger attraction to electrons) as you move across a period from left to right.\")\n",
    "    trends.append(\"Trend 2: Electron affinity tends to become less negative (weaker attraction) as you move down a group.\")\n",
    "    trends.append(\"Trend 3: Halogens (like F and Cl) show highly negative electron affinities due to their strong electronegativity.\")\n",
    "    trends.append(\"Trend 4: Metals typically have less negative electron affinities than nonmetals.\")\n",
    "    trends.append(\"Trend 5: There are some anomalies, e.g., Boron and Aluminum have less negative electron affinities compared to neighboring elements.\")\n",
    "    \n",
    "    return trends\n",
    "\n",
    "# Step 4: Output the results\n",
    "print(f\"Sorted electron affinities: {sorted_affinities}\")\n",
    "\n",
    "print(f\"Maximum electron affinity: {max_value} kJ/mol\")\n",
    "print(f\"Minimum electron affinity: {min_value} kJ/mol\")\n",
    "print(f\"Average electron affinity: {average_value:.2f} kJ/mol\")\n",
    "print(f\"Middle value(s): {middle_values}\")\n",
    "print(\"\\nTrends observed:\")\n",
    "for trend in describe_trends():\n",
    "    print(f\" -{trend}\")\n",
    "\n",
    "\n"
   ]
  },
  {
   "cell_type": "markdown",
   "id": "2830a903-274b-489b-8b84-cd7a1fd8725c",
   "metadata": {},
   "source": [
    "<i>Question 5:<i>\n",
    "\n",
    "**Potassium (K) Electron Configuration:**\n",
    "\n",
    "\n",
    "1s<sup>2</sup> 2s<sup>2</sup> 2p<sup>6</sup> 3s<sup>2</sup> 3p<sup>6</sup> 4s<sup>1</sup>\n"
   ]
  },
  {
   "cell_type": "code",
   "execution_count": 13,
   "id": "a8ac5272-4b62-4264-ad2b-fe2b2d9465f7",
   "metadata": {},
   "outputs": [
    {
     "name": "stdout",
     "output_type": "stream",
     "text": [
      "The volume of 0.150 M KCl solution required is: 0.35 L\n"
     ]
    }
   ],
   "source": [
    "# Question 6:\n",
    "# Given values\n",
    "molarity_PbNO3_2 = 0.175  # Molarity of Pb(NO3)2 in mol/L\n",
    "volume_PbNO3_2 = 0.150    # Volume of Pb(NO3)2 in L\n",
    "molarity_KCl = 0.150      # Molarity of KCl in mol/L\n",
    "\n",
    "# Calculate the moles of Pb(NO3)2\n",
    "moles_PbNO3_2 = molarity_PbNO3_2 * volume_PbNO3_2\n",
    "\n",
    "# According to the balanced equation, 2 moles of KCl react with 1 mole of Pb(NO3)2\n",
    "moles_KCl_needed = 2 * moles_PbNO3_2\n",
    "\n",
    "# Calculate the volume of KCl solution needed\n",
    "volume_KCl = moles_KCl_needed / molarity_KCl\n",
    "\n",
    "# Output the result\n",
    "print(f\"The volume of 0.150 M KCl solution required is: {volume_KCl:} L\")\n"
   ]
  },
  {
   "cell_type": "code",
   "execution_count": 20,
   "id": "47108c9a-fdb5-4fe0-82be-04dc13513602",
   "metadata": {},
   "outputs": [
    {
     "name": "stdout",
     "output_type": "stream",
     "text": [
      "Temperatures (in K): [30.465513039239582, 81.2413681046389, 36.5586156470875]\n",
      "The maximum temperature is: 81.2413681046389 K\n"
     ]
    }
   ],
   "source": [
    "# Question 7:\n",
    "# Given values\n",
    "pressures = [1.0, 2.0, 1.5]  # in atm\n",
    "volumes = [5.0, 10.0, 8.0]   # in L\n",
    "moles = [2.0, 3.0, 4.0]      # in mol\n",
    "R = 0.08206                  # ideal gas constant in L*atm/mol*K\n",
    "\n",
    "# Initialize an empty list to store temperatures\n",
    "temperatures = []\n",
    "\n",
    "# Loop through each set of pressure, volume, and moles\n",
    "for p, V, n in zip(pressures, volumes, moles):\n",
    "    # Calculate the temperature using the ideal gas law\n",
    "    T = (p * V) / (n * R)\n",
    "    temperatures.append(T)\n",
    "\n",
    "# Find the maximum temperature\n",
    "max_temperature = max(temperatures)\n",
    "\n",
    "# Output the results\n",
    "print(\"Temperatures (in K):\", temperatures)\n",
    "print(f\"The maximum temperature is: {max_temperature:} K\")\n"
   ]
  },
  {
   "cell_type": "code",
   "execution_count": null,
   "id": "4dd4eaee-d38a-4566-8cc5-35509e8296ef",
   "metadata": {},
   "outputs": [],
   "source": []
  }
 ],
 "metadata": {
  "kernelspec": {
   "display_name": "Python 3 (ipykernel)",
   "language": "python",
   "name": "python3"
  },
  "language_info": {
   "codemirror_mode": {
    "name": "ipython",
    "version": 3
   },
   "file_extension": ".py",
   "mimetype": "text/x-python",
   "name": "python",
   "nbconvert_exporter": "python",
   "pygments_lexer": "ipython3",
   "version": "3.12.7"
  }
 },
 "nbformat": 4,
 "nbformat_minor": 5
}
